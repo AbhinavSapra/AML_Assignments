{
  "nbformat": 4,
  "nbformat_minor": 0,
  "metadata": {
    "colab": {
      "provenance": []
    },
    "kernelspec": {
      "name": "python3",
      "display_name": "Python 3"
    },
    "language_info": {
      "name": "python"
    }
  },
  "cells": [
    {
      "cell_type": "code",
      "source": [
        "# We import all the necessary packages\n",
        "import os\n",
        "import re\n",
        "import collections\n",
        "import matplotlib.pyplot as plt\n",
        "import csv\n",
        "from textblob import TextBlob\n",
        "import pandas as pd\n",
        "import sklearn\n",
        "# import Pickle\n",
        "import numpy as np\n",
        "from sklearn.feature_extraction.text import CountVectorizer, TfidfTransformer\n",
        "from sklearn.naive_bayes import MultinomialNB\n",
        "from sklearn.svm import SVC, LinearSVC\n",
        "from sklearn.metrics import classification_report, f1_score, accuracy_score, confusion_matrix\n",
        "from sklearn.pipeline import Pipeline\n",
        "from sklearn.model_selection import GridSearchCV\n",
        "from sklearn.model_selection import StratifiedKFold, cross_val_score, train_test_split\n",
        "from sklearn.tree import DecisionTreeClassifier\n",
        "from sklearn.model_selection import learning_curve\n",
        "\n",
        "from sklearn.ensemble import RandomForestClassifier\n",
        "import nltk\n",
        "nltk.download('punkt')\n",
        "nltk.download('stopwords')\n",
        "from sklearn.model_selection import train_test_split\n",
        "from sklearn.feature_extraction.text import CountVectorizer\n",
        "from sklearn.naive_bayes import MultinomialNB\n",
        "from sklearn.metrics import accuracy_score, classification_report\n",
        "from nltk.corpus import stopwords\n",
        "from nltk.tokenize import word_tokenize"
      ],
      "metadata": {
        "id": "_toyTTEPMsVv"
      },
      "execution_count": null,
      "outputs": []
    },
    {
      "cell_type": "code",
      "source": [
        "path =\"/content/drive/MyDrive/\""
      ],
      "metadata": {
        "id": "nIFW54RENp6M"
      },
      "execution_count": null,
      "outputs": []
    },
    {
      "cell_type": "code",
      "source": [
        "train = pd.read_csv(\"train.csv\")\n",
        "val = pd.read_csv(\"validation.csv\")\n",
        "test = pd.read_csv(\"test.csv\")\n",
        "\n",
        "X_train, y_train = train[\"text\"], train[\"spam\"]\n",
        "X_val, y_val = val[\"text\"], val[\"spam\"]\n",
        "X_test, y_test = test[\"text\"], test[\"spam\"]"
      ],
      "metadata": {
        "id": "Tr-g4i3eNDj7"
      },
      "execution_count": null,
      "outputs": []
    },
    {
      "cell_type": "code",
      "source": [
        "bow_transformer = CountVectorizer().fit(train['text'])"
      ],
      "metadata": {
        "id": "-GgUBHqmgBEj"
      },
      "execution_count": null,
      "outputs": []
    },
    {
      "cell_type": "code",
      "source": [
        "emails_bow = bow_transformer.transform(train['text'])"
      ],
      "metadata": {
        "id": "Hr16HLVwsokj"
      },
      "execution_count": null,
      "outputs": []
    },
    {
      "cell_type": "code",
      "source": [
        " tfidf_transformer = TfidfTransformer().fit(emails_bow)"
      ],
      "metadata": {
        "id": "-WzlrAX_swSQ"
      },
      "execution_count": null,
      "outputs": []
    },
    {
      "cell_type": "markdown",
      "source": [
        "MODEL:1 Naive Bayes Classifier"
      ],
      "metadata": {
        "id": "mE3K4ecJBS7V"
      }
    },
    {
      "cell_type": "code",
      "source": [
        "\n",
        "# Build and train the model\n",
        "model = Pipeline([('bow',CountVectorizer()),('tfidf', TfidfTransformer()),('classifier', MultinomialNB())])"
      ],
      "metadata": {
        "id": "ZHCbb7XOf4tK"
      },
      "execution_count": null,
      "outputs": []
    },
    {
      "cell_type": "code",
      "source": [
        "%time model_nb=model.fit(X_train,y_train)"
      ],
      "metadata": {
        "id": "W83H8lL7vZ38"
      },
      "execution_count": null,
      "outputs": []
    },
    {
      "cell_type": "code",
      "source": [
        "# Make predictions on the test set\n",
        "predictions = model_nb.predict(X_test)\n",
        "\n",
        "# Evaluate the model\n",
        "accuracy = accuracy_score(y_test, predictions)\n",
        "print(f\"Accuracy: {accuracy:.2f}\")\n",
        "\n",
        "# Display classification report\n",
        "print(classification_report(y_test, predictions))"
      ],
      "metadata": {
        "id": "NOi16VWsvSc4"
      },
      "execution_count": null,
      "outputs": []
    },
    {
      "cell_type": "markdown",
      "source": [
        "MODEL 2: Support Vector Machine"
      ],
      "metadata": {
        "id": "Tue0p2w0BbEL"
      }
    },
    {
      "cell_type": "code",
      "source": [
        "\n",
        "pipeline_sv = Pipeline([\n",
        "    ('bow', CountVectorizer()),  # strings to token integer counts\n",
        "    ('tfidf', TfidfTransformer()),  # integer counts to weighted TF-IDF scores\n",
        "    ('classifier', SVC()),  # train on TF-IDF vectors w/ SVM classifier\n",
        "])"
      ],
      "metadata": {
        "id": "6q-cHeLLtOEY"
      },
      "execution_count": null,
      "outputs": []
    },
    {
      "cell_type": "code",
      "source": [
        "%time model_sv = pipeline_sv.fit(X_train, y_train)"
      ],
      "metadata": {
        "id": "nT-RSBWRtSkz"
      },
      "execution_count": null,
      "outputs": []
    },
    {
      "cell_type": "code",
      "source": [
        "print(model_sv.score(X_train, y_train))\n",
        "print(model_sv.score(X_val, y_val))"
      ],
      "metadata": {
        "id": "7YExtOBGtVR1"
      },
      "execution_count": null,
      "outputs": []
    },
    {
      "cell_type": "code",
      "source": [
        "\n",
        "predictions = model_sv.predict(X_test)\n",
        "print (confusion_matrix(y_test, predictions))\n",
        "print (classification_report(y_test, predictions))"
      ],
      "metadata": {
        "id": "5_p-uPxUtX-f"
      },
      "execution_count": null,
      "outputs": []
    },
    {
      "cell_type": "markdown",
      "source": [
        "MODEL 3: Random Forest Classifier"
      ],
      "metadata": {
        "id": "Y6BQWpVGBiwX"
      }
    },
    {
      "cell_type": "code",
      "source": [
        "from sklearn.ensemble import RandomForestClassifier\n",
        "pipeline_rf = Pipeline([\n",
        "    ('bow', CountVectorizer()),  # strings to token integer counts\n",
        "    ('tfidf', TfidfTransformer()),  # integer counts to weighted TF-IDF scores\n",
        "    ('classifier', RandomForestClassifier()),  # train on TF-IDF vectors w/ SVM classifier\n",
        "])"
      ],
      "metadata": {
        "id": "vzuz8mtN47dS"
      },
      "execution_count": null,
      "outputs": []
    },
    {
      "cell_type": "code",
      "source": [
        "%time model_rf = pipeline_rf.fit(X_train, y_train)"
      ],
      "metadata": {
        "id": "GtMsfD4k6Aom"
      },
      "execution_count": null,
      "outputs": []
    },
    {
      "cell_type": "code",
      "source": [
        "print(model_rf.score(X_train, y_train))\n",
        "print(model_rf.score(X_val, y_val))"
      ],
      "metadata": {
        "id": "SVj5qkjq6G1g"
      },
      "execution_count": null,
      "outputs": []
    },
    {
      "cell_type": "code",
      "source": [
        "predictions = model_rf.predict(X_test)\n",
        "print (confusion_matrix(y_test, predictions))\n",
        "print (classification_report(y_test, predictions))"
      ],
      "metadata": {
        "id": "M3hcQwhz6cWT"
      },
      "execution_count": null,
      "outputs": []
    },
    {
      "cell_type": "markdown",
      "source": [
        "we observe that the SVM gives the best accuracy amongst the three classifiers."
      ],
      "metadata": {
        "id": "_ShESX_IBqX8"
      }
    }
  ]
}