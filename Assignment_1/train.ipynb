{
  "nbformat": 4,
  "nbformat_minor": 0,
  "metadata": {
    "colab": {
      "provenance": []
    },
    "kernelspec": {
      "name": "python3",
      "display_name": "Python 3"
    },
    "language_info": {
      "name": "python"
    }
  },
  "cells": [
    {
      "cell_type": "code",
      "source": [
        "# We import all the necessary packages\n",
        "import os\n",
        "import re\n",
        "import collections\n",
        "import matplotlib.pyplot as plt\n",
        "import csv\n",
        "from textblob import TextBlob\n",
        "import pandas as pd\n",
        "import sklearn\n",
        "# import Pickle\n",
        "import numpy as np\n",
        "from sklearn.feature_extraction.text import CountVectorizer, TfidfTransformer\n",
        "from sklearn.naive_bayes import MultinomialNB\n",
        "from sklearn.svm import SVC, LinearSVC\n",
        "from sklearn.metrics import classification_report, f1_score, accuracy_score, confusion_matrix\n",
        "from sklearn.pipeline import Pipeline\n",
        "from sklearn.model_selection import GridSearchCV\n",
        "from sklearn.model_selection import StratifiedKFold, cross_val_score, train_test_split\n",
        "from sklearn.tree import DecisionTreeClassifier\n",
        "from sklearn.model_selection import learning_curve\n",
        "\n",
        "from sklearn.ensemble import RandomForestClassifier\n",
        "import nltk\n",
        "nltk.download('punkt')\n",
        "nltk.download('stopwords')\n",
        "from sklearn.model_selection import train_test_split\n",
        "from sklearn.feature_extraction.text import CountVectorizer\n",
        "from sklearn.naive_bayes import MultinomialNB\n",
        "from sklearn.metrics import accuracy_score, classification_report\n",
        "from nltk.corpus import stopwords\n",
        "from nltk.tokenize import word_tokenize"
      ],
      "metadata": {
        "id": "_toyTTEPMsVv",
        "colab": {
          "base_uri": "https://localhost:8080/"
        },
        "outputId": "1b7d8594-512d-4128-cc66-ace19b6c8887"
      },
      "execution_count": 34,
      "outputs": [
        {
          "output_type": "stream",
          "name": "stderr",
          "text": [
            "[nltk_data] Downloading package punkt to /root/nltk_data...\n",
            "[nltk_data]   Package punkt is already up-to-date!\n",
            "[nltk_data] Downloading package stopwords to /root/nltk_data...\n",
            "[nltk_data]   Package stopwords is already up-to-date!\n"
          ]
        }
      ]
    },
    {
      "cell_type": "code",
      "source": [
        "path =\"/content/drive/MyDrive/\""
      ],
      "metadata": {
        "id": "nIFW54RENp6M"
      },
      "execution_count": 35,
      "outputs": []
    },
    {
      "cell_type": "code",
      "source": [
        "train = pd.read_csv(\"train.csv\")\n",
        "val = pd.read_csv(\"validation.csv\")\n",
        "test = pd.read_csv(\"test.csv\")\n",
        "\n",
        "X_train, y_train = train[\"text\"], train[\"spam\"]\n",
        "X_val, y_val = val[\"text\"], val[\"spam\"]\n",
        "X_test, y_test = test[\"text\"], test[\"spam\"]"
      ],
      "metadata": {
        "id": "Tr-g4i3eNDj7"
      },
      "execution_count": 36,
      "outputs": []
    },
    {
      "cell_type": "code",
      "source": [
        "bow_transformer = CountVectorizer().fit(train['text'])"
      ],
      "metadata": {
        "id": "-GgUBHqmgBEj"
      },
      "execution_count": 37,
      "outputs": []
    },
    {
      "cell_type": "code",
      "source": [
        "emails_bow = bow_transformer.transform(train['text'])"
      ],
      "metadata": {
        "id": "Hr16HLVwsokj"
      },
      "execution_count": 38,
      "outputs": []
    },
    {
      "cell_type": "code",
      "source": [
        " tfidf_transformer = TfidfTransformer().fit(emails_bow)"
      ],
      "metadata": {
        "id": "-WzlrAX_swSQ"
      },
      "execution_count": 39,
      "outputs": []
    },
    {
      "cell_type": "markdown",
      "source": [
        "MODEL:1 Naive Bayes Classifier"
      ],
      "metadata": {
        "id": "mE3K4ecJBS7V"
      }
    },
    {
      "cell_type": "code",
      "source": [
        "\n",
        "# Build and train the model\n",
        "model = Pipeline([('bow',CountVectorizer()),('tfidf', TfidfTransformer()),('classifier', MultinomialNB())])"
      ],
      "metadata": {
        "id": "ZHCbb7XOf4tK"
      },
      "execution_count": 40,
      "outputs": []
    },
    {
      "cell_type": "code",
      "source": [
        "%time model_nb=model.fit(X_train,y_train)"
      ],
      "metadata": {
        "id": "W83H8lL7vZ38",
        "colab": {
          "base_uri": "https://localhost:8080/"
        },
        "outputId": "206bf9b4-8184-4f74-ffc7-8813e6920b00"
      },
      "execution_count": 41,
      "outputs": [
        {
          "output_type": "stream",
          "name": "stdout",
          "text": [
            "CPU times: user 587 ms, sys: 6.42 ms, total: 593 ms\n",
            "Wall time: 601 ms\n"
          ]
        }
      ]
    },
    {
      "cell_type": "code",
      "source": [
        "# Make predictions on the test set\n",
        "predictions = model_nb.predict(X_test)\n",
        "\n",
        "# Evaluate the model\n",
        "accuracy = accuracy_score(y_test, predictions)\n",
        "print(f\"Accuracy: {accuracy:.2f}\")\n",
        "\n",
        "# Display classification report\n",
        "print(classification_report(y_test, predictions))"
      ],
      "metadata": {
        "id": "NOi16VWsvSc4",
        "colab": {
          "base_uri": "https://localhost:8080/"
        },
        "outputId": "1b0d6b41-e7f4-4e2e-ff0d-281b15051c60"
      },
      "execution_count": 42,
      "outputs": [
        {
          "output_type": "stream",
          "name": "stdout",
          "text": [
            "Accuracy: 0.88\n",
            "              precision    recall  f1-score   support\n",
            "\n",
            "           0       0.87      1.00      0.93       856\n",
            "           1       1.00      0.54      0.70       290\n",
            "\n",
            "    accuracy                           0.88      1146\n",
            "   macro avg       0.93      0.77      0.82      1146\n",
            "weighted avg       0.90      0.88      0.87      1146\n",
            "\n"
          ]
        }
      ]
    },
    {
      "cell_type": "markdown",
      "source": [
        "MODEL 2: Support Vector Machine"
      ],
      "metadata": {
        "id": "Tue0p2w0BbEL"
      }
    },
    {
      "cell_type": "code",
      "source": [
        "\n",
        "pipeline_sv = Pipeline([\n",
        "    ('bow', CountVectorizer()),  # strings to token integer counts\n",
        "    ('tfidf', TfidfTransformer()),  # integer counts to weighted TF-IDF scores\n",
        "    ('classifier', SVC()),  # train on TF-IDF vectors w/ SVM classifier\n",
        "])"
      ],
      "metadata": {
        "id": "6q-cHeLLtOEY"
      },
      "execution_count": 43,
      "outputs": []
    },
    {
      "cell_type": "code",
      "source": [
        "%time model_sv = pipeline_sv.fit(X_train, y_train)"
      ],
      "metadata": {
        "id": "nT-RSBWRtSkz",
        "colab": {
          "base_uri": "https://localhost:8080/"
        },
        "outputId": "98ef7c08-f28a-4742-9abd-ecd748385c73"
      },
      "execution_count": 44,
      "outputs": [
        {
          "output_type": "stream",
          "name": "stdout",
          "text": [
            "CPU times: user 6.69 s, sys: 61.9 ms, total: 6.75 s\n",
            "Wall time: 6.78 s\n"
          ]
        }
      ]
    },
    {
      "cell_type": "code",
      "source": [
        "print(model_sv.score(X_train, y_train))\n",
        "print(model_sv.score(X_val, y_val))"
      ],
      "metadata": {
        "id": "7YExtOBGtVR1",
        "colab": {
          "base_uri": "https://localhost:8080/"
        },
        "outputId": "85a5185a-1d7e-41e5-9a78-346a6a6db641"
      },
      "execution_count": 45,
      "outputs": [
        {
          "output_type": "stream",
          "name": "stdout",
          "text": [
            "1.0\n",
            "0.9836423118865867\n"
          ]
        }
      ]
    },
    {
      "cell_type": "code",
      "source": [
        "\n",
        "predictions = model_sv.predict(X_test)\n",
        "print (confusion_matrix(y_test, predictions))\n",
        "print (classification_report(y_test, predictions))"
      ],
      "metadata": {
        "id": "5_p-uPxUtX-f",
        "colab": {
          "base_uri": "https://localhost:8080/"
        },
        "outputId": "687832b6-b3af-4422-a067-a85597a318a8"
      },
      "execution_count": 46,
      "outputs": [
        {
          "output_type": "stream",
          "name": "stdout",
          "text": [
            "[[854   2]\n",
            " [ 12 278]]\n",
            "              precision    recall  f1-score   support\n",
            "\n",
            "           0       0.99      1.00      0.99       856\n",
            "           1       0.99      0.96      0.98       290\n",
            "\n",
            "    accuracy                           0.99      1146\n",
            "   macro avg       0.99      0.98      0.98      1146\n",
            "weighted avg       0.99      0.99      0.99      1146\n",
            "\n"
          ]
        }
      ]
    },
    {
      "cell_type": "markdown",
      "source": [
        "MODEL 3: Random Forest Classifier"
      ],
      "metadata": {
        "id": "Y6BQWpVGBiwX"
      }
    },
    {
      "cell_type": "code",
      "source": [
        "from sklearn.ensemble import RandomForestClassifier\n",
        "pipeline_rf = Pipeline([\n",
        "    ('bow', CountVectorizer()),  # strings to token integer counts\n",
        "    ('tfidf', TfidfTransformer()),  # integer counts to weighted TF-IDF scores\n",
        "    ('classifier', RandomForestClassifier()),  # train on TF-IDF vectors w/ SVM classifier\n",
        "])"
      ],
      "metadata": {
        "id": "vzuz8mtN47dS"
      },
      "execution_count": 47,
      "outputs": []
    },
    {
      "cell_type": "code",
      "source": [
        "%time model_rf = pipeline_rf.fit(X_train, y_train)"
      ],
      "metadata": {
        "id": "GtMsfD4k6Aom",
        "colab": {
          "base_uri": "https://localhost:8080/"
        },
        "outputId": "eed3e619-b778-4845-ed3c-8dc0ebbc1a3f"
      },
      "execution_count": 48,
      "outputs": [
        {
          "output_type": "stream",
          "name": "stdout",
          "text": [
            "CPU times: user 3.77 s, sys: 11 ms, total: 3.78 s\n",
            "Wall time: 3.87 s\n"
          ]
        }
      ]
    },
    {
      "cell_type": "code",
      "source": [
        "print(model_rf.score(X_train, y_train))\n",
        "print(model_rf.score(X_val, y_val))"
      ],
      "metadata": {
        "id": "SVj5qkjq6G1g",
        "colab": {
          "base_uri": "https://localhost:8080/"
        },
        "outputId": "60db0557-d262-4005-c5de-6b25719ef472"
      },
      "execution_count": 49,
      "outputs": [
        {
          "output_type": "stream",
          "name": "stdout",
          "text": [
            "1.0\n",
            "0.9694656488549618\n"
          ]
        }
      ]
    },
    {
      "cell_type": "code",
      "source": [
        "predictions = model_rf.predict(X_test)\n",
        "print (confusion_matrix(y_test, predictions))\n",
        "print (classification_report(y_test, predictions))"
      ],
      "metadata": {
        "id": "M3hcQwhz6cWT",
        "colab": {
          "base_uri": "https://localhost:8080/"
        },
        "outputId": "3257341a-62ce-4b14-cd2a-580b8d32dc90"
      },
      "execution_count": 50,
      "outputs": [
        {
          "output_type": "stream",
          "name": "stdout",
          "text": [
            "[[855   1]\n",
            " [ 37 253]]\n",
            "              precision    recall  f1-score   support\n",
            "\n",
            "           0       0.96      1.00      0.98       856\n",
            "           1       1.00      0.87      0.93       290\n",
            "\n",
            "    accuracy                           0.97      1146\n",
            "   macro avg       0.98      0.94      0.95      1146\n",
            "weighted avg       0.97      0.97      0.97      1146\n",
            "\n"
          ]
        }
      ]
    },
    {
      "cell_type": "markdown",
      "source": [
        "we observe that the SVM gives the best accuracy amongst the three classifiers."
      ],
      "metadata": {
        "id": "_ShESX_IBqX8"
      }
    }
  ]
}