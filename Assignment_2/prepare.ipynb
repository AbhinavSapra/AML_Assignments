{
  "nbformat": 4,
  "nbformat_minor": 0,
  "metadata": {
    "colab": {
      "provenance": [],
      "mount_file_id": "1h8J4ZL8y5KPoLXSD_FG9OIMRTMPD6KJT",
      "authorship_tag": "ABX9TyNAnXxVzUkl01Q55/0WQ274"
    },
    "kernelspec": {
      "name": "python3",
      "display_name": "Python 3"
    },
    "language_info": {
      "name": "python"
    }
  },
  "cells": [
    {
      "cell_type": "code",
      "source": [
        "!pip install dvc"
      ],
      "metadata": {
        "colab": {
          "base_uri": "https://localhost:8080/"
        },
        "id": "c7gtBNXqkQLD",
        "outputId": "16831729-d31f-49b4-f110-c983bfd8e67e"
      },
      "execution_count": 157,
      "outputs": [
        {
          "output_type": "stream",
          "name": "stdout",
          "text": [
            "Requirement already satisfied: dvc in /usr/local/lib/python3.10/dist-packages (3.46.0)\n",
            "Requirement already satisfied: colorama>=0.3.9 in /usr/local/lib/python3.10/dist-packages (from dvc) (0.4.6)\n",
            "Requirement already satisfied: configobj>=5.0.6 in /usr/local/lib/python3.10/dist-packages (from dvc) (5.0.8)\n",
            "Requirement already satisfied: distro>=1.3 in /usr/lib/python3/dist-packages (from dvc) (1.7.0)\n",
            "Requirement already satisfied: dpath<3,>=2.1.0 in /usr/local/lib/python3.10/dist-packages (from dvc) (2.1.6)\n",
            "Requirement already satisfied: dvc-data<3.14,>=3.13 in /usr/local/lib/python3.10/dist-packages (from dvc) (3.13.0)\n",
            "Requirement already satisfied: dvc-http>=2.29.0 in /usr/local/lib/python3.10/dist-packages (from dvc) (2.32.0)\n",
            "Requirement already satisfied: dvc-render<2,>=1.0.1 in /usr/local/lib/python3.10/dist-packages (from dvc) (1.0.1)\n",
            "Requirement already satisfied: dvc-studio-client<1,>=0.19 in /usr/local/lib/python3.10/dist-packages (from dvc) (0.20.0)\n",
            "Requirement already satisfied: dvc-task<1,>=0.3.0 in /usr/local/lib/python3.10/dist-packages (from dvc) (0.3.0)\n",
            "Requirement already satisfied: flatten-dict<1,>=0.4.1 in /usr/local/lib/python3.10/dist-packages (from dvc) (0.4.2)\n",
            "Requirement already satisfied: flufl.lock<8,>=5 in /usr/local/lib/python3.10/dist-packages (from dvc) (7.1.1)\n",
            "Requirement already satisfied: funcy>=1.14 in /usr/local/lib/python3.10/dist-packages (from dvc) (2.0)\n",
            "Requirement already satisfied: grandalf<1,>=0.7 in /usr/local/lib/python3.10/dist-packages (from dvc) (0.8)\n",
            "Requirement already satisfied: gto<2,>=1.6.0 in /usr/local/lib/python3.10/dist-packages (from dvc) (1.7.0)\n",
            "Requirement already satisfied: hydra-core>=1.1 in /usr/local/lib/python3.10/dist-packages (from dvc) (1.3.2)\n",
            "Requirement already satisfied: iterative-telemetry>=0.0.7 in /usr/local/lib/python3.10/dist-packages (from dvc) (0.0.8)\n",
            "Requirement already satisfied: networkx>=2.5 in /usr/local/lib/python3.10/dist-packages (from dvc) (3.2.1)\n",
            "Requirement already satisfied: packaging>=19 in /usr/local/lib/python3.10/dist-packages (from dvc) (23.2)\n",
            "Requirement already satisfied: pathspec>=0.10.3 in /usr/local/lib/python3.10/dist-packages (from dvc) (0.12.1)\n",
            "Requirement already satisfied: platformdirs<4,>=3.1.1 in /usr/local/lib/python3.10/dist-packages (from dvc) (3.11.0)\n",
            "Requirement already satisfied: psutil>=5.8 in /usr/local/lib/python3.10/dist-packages (from dvc) (5.9.5)\n",
            "Requirement already satisfied: pydot>=1.2.4 in /usr/local/lib/python3.10/dist-packages (from dvc) (1.4.2)\n",
            "Requirement already satisfied: pygtrie>=2.3.2 in /usr/local/lib/python3.10/dist-packages (from dvc) (2.5.0)\n",
            "Requirement already satisfied: pyparsing>=2.4.7 in /usr/local/lib/python3.10/dist-packages (from dvc) (3.1.1)\n",
            "Requirement already satisfied: requests>=2.22 in /usr/local/lib/python3.10/dist-packages (from dvc) (2.31.0)\n",
            "Requirement already satisfied: rich>=12 in /usr/local/lib/python3.10/dist-packages (from dvc) (13.7.0)\n",
            "Requirement already satisfied: ruamel.yaml>=0.17.11 in /usr/local/lib/python3.10/dist-packages (from dvc) (0.18.6)\n",
            "Requirement already satisfied: scmrepo<4,>=3 in /usr/local/lib/python3.10/dist-packages (from dvc) (3.1.0)\n",
            "Requirement already satisfied: shortuuid>=0.5 in /usr/local/lib/python3.10/dist-packages (from dvc) (1.0.11)\n",
            "Requirement already satisfied: shtab<2,>=1.3.4 in /usr/local/lib/python3.10/dist-packages (from dvc) (1.7.0)\n",
            "Requirement already satisfied: tabulate>=0.8.7 in /usr/local/lib/python3.10/dist-packages (from dvc) (0.9.0)\n",
            "Requirement already satisfied: tomlkit>=0.11.1 in /usr/local/lib/python3.10/dist-packages (from dvc) (0.12.3)\n",
            "Requirement already satisfied: tqdm<5,>=4.63.1 in /usr/local/lib/python3.10/dist-packages (from dvc) (4.66.2)\n",
            "Requirement already satisfied: voluptuous>=0.11.7 in /usr/local/lib/python3.10/dist-packages (from dvc) (0.14.2)\n",
            "Requirement already satisfied: zc.lockfile>=1.2.1 in /usr/local/lib/python3.10/dist-packages (from dvc) (3.0.post1)\n",
            "Requirement already satisfied: six in /usr/local/lib/python3.10/dist-packages (from configobj>=5.0.6->dvc) (1.16.0)\n",
            "Requirement already satisfied: dictdiffer>=0.8.1 in /usr/local/lib/python3.10/dist-packages (from dvc-data<3.14,>=3.13->dvc) (0.9.0)\n",
            "Requirement already satisfied: dvc-objects<6,>=4.0.1 in /usr/local/lib/python3.10/dist-packages (from dvc-data<3.14,>=3.13->dvc) (5.0.0)\n",
            "Requirement already satisfied: fsspec>=2024.2.0 in /usr/local/lib/python3.10/dist-packages (from dvc-data<3.14,>=3.13->dvc) (2024.2.0)\n",
            "Requirement already satisfied: diskcache>=5.2.1 in /usr/local/lib/python3.10/dist-packages (from dvc-data<3.14,>=3.13->dvc) (5.6.3)\n",
            "Requirement already satisfied: attrs>=21.3.0 in /usr/local/lib/python3.10/dist-packages (from dvc-data<3.14,>=3.13->dvc) (23.2.0)\n",
            "Requirement already satisfied: sqltrie<1,>=0.11.0 in /usr/local/lib/python3.10/dist-packages (from dvc-data<3.14,>=3.13->dvc) (0.11.0)\n",
            "Requirement already satisfied: aiohttp-retry>=2.5.0 in /usr/local/lib/python3.10/dist-packages (from dvc-http>=2.29.0->dvc) (2.8.3)\n",
            "Requirement already satisfied: dulwich in /usr/local/lib/python3.10/dist-packages (from dvc-studio-client<1,>=0.19->dvc) (0.21.7)\n",
            "Requirement already satisfied: celery<6,>=5.3.0 in /usr/local/lib/python3.10/dist-packages (from dvc-task<1,>=0.3.0->dvc) (5.3.6)\n",
            "Requirement already satisfied: kombu<6,>=5.3.0 in /usr/local/lib/python3.10/dist-packages (from dvc-task<1,>=0.3.0->dvc) (5.3.5)\n",
            "Requirement already satisfied: atpublic>=2.3 in /usr/local/lib/python3.10/dist-packages (from flufl.lock<8,>=5->dvc) (4.0)\n",
            "Requirement already satisfied: typer>=0.4.1 in /usr/local/lib/python3.10/dist-packages (from gto<2,>=1.6.0->dvc) (0.9.0)\n",
            "Requirement already satisfied: pydantic!=2.0.0,<3,>=1.9.0 in /usr/local/lib/python3.10/dist-packages (from gto<2,>=1.6.0->dvc) (2.6.1)\n",
            "Requirement already satisfied: semver>=3.0.0 in /usr/local/lib/python3.10/dist-packages (from gto<2,>=1.6.0->dvc) (3.0.2)\n",
            "Requirement already satisfied: entrypoints in /usr/local/lib/python3.10/dist-packages (from gto<2,>=1.6.0->dvc) (0.4)\n",
            "Requirement already satisfied: omegaconf<2.4,>=2.2 in /usr/local/lib/python3.10/dist-packages (from hydra-core>=1.1->dvc) (2.3.0)\n",
            "Requirement already satisfied: antlr4-python3-runtime==4.9.* in /usr/local/lib/python3.10/dist-packages (from hydra-core>=1.1->dvc) (4.9.3)\n",
            "Requirement already satisfied: appdirs in /usr/local/lib/python3.10/dist-packages (from iterative-telemetry>=0.0.7->dvc) (1.4.4)\n",
            "Requirement already satisfied: filelock in /usr/local/lib/python3.10/dist-packages (from iterative-telemetry>=0.0.7->dvc) (3.13.1)\n",
            "Requirement already satisfied: charset-normalizer<4,>=2 in /usr/local/lib/python3.10/dist-packages (from requests>=2.22->dvc) (3.3.2)\n",
            "Requirement already satisfied: idna<4,>=2.5 in /usr/local/lib/python3.10/dist-packages (from requests>=2.22->dvc) (3.6)\n",
            "Requirement already satisfied: urllib3<3,>=1.21.1 in /usr/local/lib/python3.10/dist-packages (from requests>=2.22->dvc) (2.0.7)\n",
            "Requirement already satisfied: certifi>=2017.4.17 in /usr/local/lib/python3.10/dist-packages (from requests>=2.22->dvc) (2024.2.2)\n",
            "Requirement already satisfied: markdown-it-py>=2.2.0 in /usr/local/lib/python3.10/dist-packages (from rich>=12->dvc) (3.0.0)\n",
            "Requirement already satisfied: pygments<3.0.0,>=2.13.0 in /usr/local/lib/python3.10/dist-packages (from rich>=12->dvc) (2.16.1)\n",
            "Requirement already satisfied: ruamel.yaml.clib>=0.2.7 in /usr/local/lib/python3.10/dist-packages (from ruamel.yaml>=0.17.11->dvc) (0.2.8)\n",
            "Requirement already satisfied: gitpython>3 in /usr/local/lib/python3.10/dist-packages (from scmrepo<4,>=3->dvc) (3.1.42)\n",
            "Requirement already satisfied: pygit2>=1.14.0 in /usr/local/lib/python3.10/dist-packages (from scmrepo<4,>=3->dvc) (1.14.1)\n",
            "Requirement already satisfied: asyncssh<3,>=2.13.1 in /usr/local/lib/python3.10/dist-packages (from scmrepo<4,>=3->dvc) (2.14.2)\n",
            "Requirement already satisfied: setuptools in /usr/local/lib/python3.10/dist-packages (from zc.lockfile>=1.2.1->dvc) (67.7.2)\n",
            "Requirement already satisfied: aiohttp in /usr/local/lib/python3.10/dist-packages (from aiohttp-retry>=2.5.0->dvc-http>=2.29.0->dvc) (3.9.3)\n",
            "Requirement already satisfied: cryptography>=39.0 in /usr/local/lib/python3.10/dist-packages (from asyncssh<3,>=2.13.1->scmrepo<4,>=3->dvc) (42.0.2)\n",
            "Requirement already satisfied: typing-extensions>=3.6 in /usr/local/lib/python3.10/dist-packages (from asyncssh<3,>=2.13.1->scmrepo<4,>=3->dvc) (4.9.0)\n",
            "Requirement already satisfied: billiard<5.0,>=4.2.0 in /usr/local/lib/python3.10/dist-packages (from celery<6,>=5.3.0->dvc-task<1,>=0.3.0->dvc) (4.2.0)\n",
            "Requirement already satisfied: click-didyoumean>=0.3.0 in /usr/local/lib/python3.10/dist-packages (from celery<6,>=5.3.0->dvc-task<1,>=0.3.0->dvc) (0.3.0)\n",
            "Requirement already satisfied: click-plugins>=1.1.1 in /usr/local/lib/python3.10/dist-packages (from celery<6,>=5.3.0->dvc-task<1,>=0.3.0->dvc) (1.1.1)\n",
            "Requirement already satisfied: click-repl>=0.2.0 in /usr/local/lib/python3.10/dist-packages (from celery<6,>=5.3.0->dvc-task<1,>=0.3.0->dvc) (0.3.0)\n",
            "Requirement already satisfied: click<9.0,>=8.1.2 in /usr/local/lib/python3.10/dist-packages (from celery<6,>=5.3.0->dvc-task<1,>=0.3.0->dvc) (8.1.7)\n",
            "Requirement already satisfied: python-dateutil>=2.8.2 in /usr/local/lib/python3.10/dist-packages (from celery<6,>=5.3.0->dvc-task<1,>=0.3.0->dvc) (2.8.2)\n",
            "Requirement already satisfied: tzdata>=2022.7 in /usr/local/lib/python3.10/dist-packages (from celery<6,>=5.3.0->dvc-task<1,>=0.3.0->dvc) (2024.1)\n",
            "Requirement already satisfied: vine<6.0,>=5.1.0 in /usr/local/lib/python3.10/dist-packages (from celery<6,>=5.3.0->dvc-task<1,>=0.3.0->dvc) (5.1.0)\n",
            "Requirement already satisfied: gitdb<5,>=4.0.1 in /usr/local/lib/python3.10/dist-packages (from gitpython>3->scmrepo<4,>=3->dvc) (4.0.11)\n",
            "Requirement already satisfied: amqp<6.0.0,>=5.1.1 in /usr/local/lib/python3.10/dist-packages (from kombu<6,>=5.3.0->dvc-task<1,>=0.3.0->dvc) (5.2.0)\n",
            "Requirement already satisfied: mdurl~=0.1 in /usr/local/lib/python3.10/dist-packages (from markdown-it-py>=2.2.0->rich>=12->dvc) (0.1.2)\n",
            "Requirement already satisfied: PyYAML>=5.1.0 in /usr/local/lib/python3.10/dist-packages (from omegaconf<2.4,>=2.2->hydra-core>=1.1->dvc) (6.0.1)\n",
            "Requirement already satisfied: annotated-types>=0.4.0 in /usr/local/lib/python3.10/dist-packages (from pydantic!=2.0.0,<3,>=1.9.0->gto<2,>=1.6.0->dvc) (0.6.0)\n",
            "Requirement already satisfied: pydantic-core==2.16.2 in /usr/local/lib/python3.10/dist-packages (from pydantic!=2.0.0,<3,>=1.9.0->gto<2,>=1.6.0->dvc) (2.16.2)\n",
            "Requirement already satisfied: cffi>=1.16.0 in /usr/local/lib/python3.10/dist-packages (from pygit2>=1.14.0->scmrepo<4,>=3->dvc) (1.16.0)\n",
            "Requirement already satisfied: orjson in /usr/local/lib/python3.10/dist-packages (from sqltrie<1,>=0.11.0->dvc-data<3.14,>=3.13->dvc) (3.9.14)\n",
            "Requirement already satisfied: aiosignal>=1.1.2 in /usr/local/lib/python3.10/dist-packages (from aiohttp->aiohttp-retry>=2.5.0->dvc-http>=2.29.0->dvc) (1.3.1)\n",
            "Requirement already satisfied: frozenlist>=1.1.1 in /usr/local/lib/python3.10/dist-packages (from aiohttp->aiohttp-retry>=2.5.0->dvc-http>=2.29.0->dvc) (1.4.1)\n",
            "Requirement already satisfied: multidict<7.0,>=4.5 in /usr/local/lib/python3.10/dist-packages (from aiohttp->aiohttp-retry>=2.5.0->dvc-http>=2.29.0->dvc) (6.0.5)\n",
            "Requirement already satisfied: yarl<2.0,>=1.0 in /usr/local/lib/python3.10/dist-packages (from aiohttp->aiohttp-retry>=2.5.0->dvc-http>=2.29.0->dvc) (1.9.4)\n",
            "Requirement already satisfied: async-timeout<5.0,>=4.0 in /usr/local/lib/python3.10/dist-packages (from aiohttp->aiohttp-retry>=2.5.0->dvc-http>=2.29.0->dvc) (4.0.3)\n",
            "Requirement already satisfied: pycparser in /usr/local/lib/python3.10/dist-packages (from cffi>=1.16.0->pygit2>=1.14.0->scmrepo<4,>=3->dvc) (2.21)\n",
            "Requirement already satisfied: prompt-toolkit>=3.0.36 in /usr/local/lib/python3.10/dist-packages (from click-repl>=0.2.0->celery<6,>=5.3.0->dvc-task<1,>=0.3.0->dvc) (3.0.43)\n",
            "Requirement already satisfied: smmap<6,>=3.0.1 in /usr/local/lib/python3.10/dist-packages (from gitdb<5,>=4.0.1->gitpython>3->scmrepo<4,>=3->dvc) (5.0.1)\n",
            "Requirement already satisfied: wcwidth in /usr/local/lib/python3.10/dist-packages (from prompt-toolkit>=3.0.36->click-repl>=0.2.0->celery<6,>=5.3.0->dvc-task<1,>=0.3.0->dvc) (0.2.13)\n"
          ]
        }
      ]
    },
    {
      "cell_type": "code",
      "source": [
        "import os\n",
        "import pandas as pd\n",
        "\n",
        "path ='/content/drive/MyDrive/AML_Assignments/HW_2'\n",
        "\n",
        "corpus = pd.read_csv('/content/drive/MyDrive/AML_Assignments/HW_2/raw_data.csv')\n",
        "\n",
        "os.chdir(path)"
      ],
      "metadata": {
        "id": "_NE1Xc1ZbJwP"
      },
      "execution_count": 175,
      "outputs": []
    },
    {
      "cell_type": "code",
      "source": [
        "# prompt: initiate dvc\n",
        "!git init\n",
        "!dvc init"
      ],
      "metadata": {
        "colab": {
          "base_uri": "https://localhost:8080/"
        },
        "id": "YOE2FCd3kPcM",
        "outputId": "dc3fba4e-7327-4951-b547-e0290d7fa9e1"
      },
      "execution_count": 176,
      "outputs": [
        {
          "output_type": "stream",
          "name": "stdout",
          "text": [
            "hint: Using 'master' as the name for the initial branch. This default branch name\n",
            "hint: is subject to change. To configure the initial branch name to use in all\n",
            "hint: of your new repositories, which will suppress this warning, call:\n",
            "hint: \n",
            "hint: \tgit config --global init.defaultBranch <name>\n",
            "hint: \n",
            "hint: Names commonly chosen instead of 'master' are 'main', 'trunk' and\n",
            "hint: 'development'. The just-created branch can be renamed via this command:\n",
            "hint: \n",
            "hint: \tgit branch -m <name>\n",
            "Initialized empty Git repository in /content/drive/MyDrive/AML_Assignments/HW_2/.git/\n",
            "Initialized DVC repository.\n",
            "\n",
            "You can now commit the changes to git.\n",
            "\n",
            "+---------------------------------------------------------------------+\n",
            "|                                                                     |\n",
            "|        DVC has enabled anonymous aggregate usage analytics.         |\n",
            "|     Read the analytics documentation (and how to opt-out) here:     |\n",
            "|             <https://dvc.org/doc/user-guide/analytics>              |\n",
            "|                                                                     |\n",
            "+---------------------------------------------------------------------+\n",
            "\n",
            "What's next?\n",
            "------------\n",
            "- Check out the documentation: <https://dvc.org/doc>\n",
            "- Get help and share ideas: <https://dvc.org/chat>\n",
            "- Star us on GitHub: <https://github.com/iterative/dvc>\n"
          ]
        }
      ]
    },
    {
      "cell_type": "code",
      "source": [
        "!git config user.name Abhinav\n",
        "!git config user.email sapra@cmi.ac.in"
      ],
      "metadata": {
        "id": "JeYNNTOCs6qX"
      },
      "execution_count": 177,
      "outputs": []
    },
    {
      "cell_type": "code",
      "source": [
        "!mkdir dvcstore\n",
        "!dvc remote add -d myremote dvcstore"
      ],
      "metadata": {
        "colab": {
          "base_uri": "https://localhost:8080/"
        },
        "id": "VFYvX1j2RyHe",
        "outputId": "bfd1479e-6b90-4fbf-b261-e07276b9967c"
      },
      "execution_count": 178,
      "outputs": [
        {
          "output_type": "stream",
          "name": "stdout",
          "text": [
            "Setting 'myremote' as a default remote.\n"
          ]
        }
      ]
    },
    {
      "cell_type": "code",
      "source": [
        "corpus.columns"
      ],
      "metadata": {
        "colab": {
          "base_uri": "https://localhost:8080/"
        },
        "id": "r8UvBhU2hTTq",
        "outputId": "138fb2f8-bcaf-4bef-d2f7-803c9ebfd50d"
      },
      "execution_count": 162,
      "outputs": [
        {
          "output_type": "execute_result",
          "data": {
            "text/plain": [
              "Index(['text', 'spam'], dtype='object')"
            ]
          },
          "metadata": {},
          "execution_count": 162
        }
      ]
    },
    {
      "cell_type": "code",
      "source": [
        "from sklearn.model_selection import train_test_split\n",
        "\n",
        "messages = corpus['text']\n",
        "labels = corpus[\"spam\"]\n",
        "\n",
        "\n",
        "X_train, X_test, y_train, y_test = train_test_split(messages, labels, test_size=0.2, random_state=69)\n",
        "\n",
        "X_train, X_val, y_train, y_val = train_test_split(X_train, y_train, test_size=0.2, random_state=69)"
      ],
      "metadata": {
        "id": "NOE8RaEWhOvV"
      },
      "execution_count": 179,
      "outputs": []
    },
    {
      "cell_type": "code",
      "source": [
        "train_df = pd.DataFrame()\n",
        "train_df[\"text\"] = X_train\n",
        "train_df[\"spam\"] = y_train\n",
        "print(\"TRAIN DATA\")\n",
        "print(train_df, \"\\n\\n\\n\")\n",
        "\n",
        "val_df = pd.DataFrame()\n",
        "val_df[\"text\"] = X_val\n",
        "val_df[\"spam\"] = y_val\n",
        "print(\"VALIDATION DATA\")\n",
        "print(val_df, \"\\n\\n\\n\")\n",
        "\n",
        "test_df = pd.DataFrame()\n",
        "test_df[\"text\"] = X_test\n",
        "test_df[\"spam\"] = y_test\n",
        "print(\"TEST DATA\")\n",
        "print(test_df)\n",
        "\n",
        "train_df.to_csv(f\"{path}/train.csv\", index=False)\n",
        "val_df.to_csv(f\"{path}/validation.csv\", index=False)\n",
        "test_df.to_csv(f\"{path}/test.csv\", index=False)"
      ],
      "metadata": {
        "colab": {
          "base_uri": "https://localhost:8080/"
        },
        "id": "d319zZySh8Ay",
        "outputId": "82fb7cd9-91ed-4c7c-e074-2ce854df19f3"
      },
      "execution_count": 180,
      "outputs": [
        {
          "output_type": "stream",
          "name": "stdout",
          "text": [
            "TRAIN DATA\n",
            "                                                   text  spam\n",
            "2696  Subject: professor bitran ' s visit  colleague...     0\n",
            "789   Subject: cigarettes wholesale ! hywwzzlzd  $ 1...     1\n",
            "233   Subject: in the heart of your business !  corp...     1\n",
            "3064  Subject: re : global risk management operation...     0\n",
            "1086  Subject: judicial judgements child support  ve...     1\n",
            "...                                                 ...   ...\n",
            "4982  Subject: invitation - whartonetevent - apr 20 ...     0\n",
            "3663  Subject: re : part - time work  zimin ,  can y...     0\n",
            "2475  Subject: telephone interview with the research...     0\n",
            "4554  Subject: cal berkeley general presentation con...     0\n",
            "4341  Subject: re : prc meeting date  anne ,  thanks...     0\n",
            "\n",
            "[3665 rows x 2 columns] \n",
            "\n",
            "\n",
            "\n",
            "VALIDATION DATA\n",
            "                                                   text  spam\n",
            "1836  Subject: i wanted to give you some feedback . ...     0\n",
            "5541  Subject: re : clustering for gas and power  fr...     0\n",
            "1816  Subject: kudos  congratulations on your promot...     0\n",
            "1071  Subject: vov . gget luxurious rolexes at the g...     1\n",
            "3503  Subject: re : london , new york , houston , fi...     0\n",
            "...                                                 ...   ...\n",
            "4407  Subject: re : invitation - whartonetevent - ap...     0\n",
            "5292  Subject: re : var for enroncredit . com  bryan...     0\n",
            "1170  Subject: first - level designers available for...     1\n",
            "5672  Subject: skunkworks meeting - bi - weekly  shi...     0\n",
            "3746  Subject: re : phone interview  there will be a...     0\n",
            "\n",
            "[917 rows x 2 columns] \n",
            "\n",
            "\n",
            "\n",
            "TEST DATA\n",
            "                                                   text  spam\n",
            "2912  Subject: re : powerisk 2001 - your invitation ...     0\n",
            "5058  Subject: re : associate / analyst super saturd...     0\n",
            "830   Subject: new love tabs shop .  visit our llcen...     1\n",
            "4077  Subject: thank you  dear dr . kaminsky :  i wa...     0\n",
            "1341  Subject: online tv deals 312  internet  exclus...     1\n",
            "...                                                 ...   ...\n",
            "5223  Subject: re : request for suggestions : vince ...     0\n",
            "1965  Subject: re : avistar systems  - - - - - - - -...     0\n",
            "2919  Subject: fw : wharton resume submission  - - -...     0\n",
            "1498  Subject: merit and equity increases  norma ,  ...     0\n",
            "1364  Subject: would you like a $ 250 gas card ?  do...     1\n",
            "\n",
            "[1146 rows x 2 columns]\n"
          ]
        }
      ]
    },
    {
      "cell_type": "code",
      "source": [
        "!dvc add test.csv\n",
        "!dvc add train.csv\n",
        "!dvc add validation.csv"
      ],
      "metadata": {
        "colab": {
          "base_uri": "https://localhost:8080/"
        },
        "id": "fQKKC5xplifU",
        "outputId": "9ed1df48-ebcc-4c23-9d7c-86fd483adc29"
      },
      "execution_count": 181,
      "outputs": [
        {
          "output_type": "stream",
          "name": "stdout",
          "text": [
            "\u001b[?25l⠋ Checking graph\n",
            "Adding...:   0% 0/1 [00:00<?, ?file/s{'info': ''}]\n",
            "!\n",
            "          |0.00 [00:00,     ?file/s]\n",
            "                                    \n",
            "!\n",
            "  0% |          |0/? [00:00<?,    ?files/s]\n",
            "                                           \n",
            "Adding test.csv to cache:   0% 0/1 [00:00<?, ?file/s]\n",
            "Adding test.csv to cache:   0% 0/1 [00:00<?, ?file/s{'info': ''}]\n",
            "                                                                 \n",
            "  0% 0/1 [00:00<?, ?files/s]\n",
            "  0% 0/1 [00:00<?, ?files/s{'info': ''}]\n",
            "Adding...: 100% 1/1 [00:00<00:00,  2.86file/s{'info': ''}]\n",
            "\n",
            "To track the changes with git, run:\n",
            "\n",
            "\tgit add test.csv.dvc .gitignore\n",
            "\n",
            "To enable auto staging, run:\n",
            "\n",
            "\tdvc config core.autostage true\n",
            "\u001b[?25l⠋ Checking graph\n",
            "Adding...:   0% 0/1 [00:00<?, ?file/s{'info': ''}]\n",
            "!\n",
            "          |0.00 [00:00,     ?file/s]\n",
            "                                    \n",
            "!\n",
            "  0% |          |0/? [00:00<?,    ?files/s]\n",
            "                                           \n",
            "Adding train.csv to cache:   0% 0/1 [00:00<?, ?file/s]\n",
            "Adding train.csv to cache:   0% 0/1 [00:00<?, ?file/s{'info': ''}]\n",
            "Adding train.csv to cache: 100% 1/1 [00:00<00:00,  9.54file/s{'info': ''}]\n",
            "                                                                          \n",
            "  0% 0/1 [00:00<?, ?files/s]\n",
            "  0% 0/1 [00:00<?, ?files/s{'info': ''}]\n",
            "100% 1/1 [00:00<00:00,  9.94files/s{'info': ''}]\n",
            "Adding...: 100% 1/1 [00:00<00:00,  2.49file/s{'info': ''}]\n",
            "\n",
            "To track the changes with git, run:\n",
            "\n",
            "\tgit add train.csv.dvc .gitignore\n",
            "\n",
            "To enable auto staging, run:\n",
            "\n",
            "\tdvc config core.autostage true\n",
            "\u001b[?25l⠋ Checking graph\n",
            "Adding...:   0% 0/1 [00:00<?, ?file/s{'info': ''}]\n",
            "!\n",
            "          |0.00 [00:00,     ?file/s]\n",
            "                                    \n",
            "!\n",
            "  0% |          |0/? [00:00<?,    ?files/s]\n",
            "                                           \n",
            "Adding validation.csv to cache:   0% 0/1 [00:00<?, ?file/s]\n",
            "Adding validation.csv to cache:   0% 0/1 [00:00<?, ?file/s{'info': ''}]\n",
            "                                                                       \n",
            "  0% 0/1 [00:00<?, ?files/s]\n",
            "  0% 0/1 [00:00<?, ?files/s{'info': ''}]\n",
            "Adding...: 100% 1/1 [00:00<00:00,  3.20file/s{'info': ''}]\n",
            "\n",
            "To track the changes with git, run:\n",
            "\n",
            "\tgit add .gitignore validation.csv.dvc\n",
            "\n",
            "To enable auto staging, run:\n",
            "\n",
            "\tdvc config core.autostage true\n"
          ]
        }
      ]
    },
    {
      "cell_type": "code",
      "source": [
        "!dvc push"
      ],
      "metadata": {
        "colab": {
          "base_uri": "https://localhost:8080/"
        },
        "id": "K6xCd1MQUJEZ",
        "outputId": "e25d6fef-d0df-4d52-eb72-07899a38ec0e"
      },
      "execution_count": 182,
      "outputs": [
        {
          "output_type": "stream",
          "name": "stdout",
          "text": [
            "Collecting          |3.00 [00:00,  135entry/s]\n",
            "Pushing\n",
            "!\n",
            "  0% |          |0/? [00:00<?,    ?files/s]\n",
            "                                           \n",
            "!\n",
            "  0% |          |0/? [00:00<?,    ?files/s]\n",
            "                                           \n",
            "Pushing to local:   0% 0/3 [00:00<?, ?file/s]\n",
            "Pushing to local:   0% 0/3 [00:00<?, ?file/s{'info': ''}]\n",
            "Pushing to local:  33% 1/3 [00:00<00:00,  9.43file/s{'info': ''}]\n",
            "Pushing\n",
            "3 files pushed\n"
          ]
        }
      ]
    },
    {
      "cell_type": "code",
      "source": [
        "!git add test.csv.dvc .gitignore\n",
        "!git commit -m \"test file\"\n",
        "\n",
        "!git add train.csv.dvc .gitignore\n",
        "!git commit -m \"train file\"\n",
        "\n",
        "!git add validation.csv.dvc .gitignore\n",
        "!git commit -m \"validation file\"\n"
      ],
      "metadata": {
        "colab": {
          "base_uri": "https://localhost:8080/"
        },
        "id": "EWluns8pmr4R",
        "outputId": "5a8845e1-808b-4ff2-b41c-2743cf48b545"
      },
      "execution_count": 183,
      "outputs": [
        {
          "output_type": "stream",
          "name": "stdout",
          "text": [
            "[master (root-commit) 138de78] test file\n",
            " 5 files changed, 14 insertions(+)\n",
            " create mode 100644 .dvc/.gitignore\n",
            " create mode 100644 .dvc/config\n",
            " create mode 100644 .dvcignore\n",
            " create mode 100644 .gitignore\n",
            " create mode 100644 test.csv.dvc\n",
            "[master 5fd3cd4] train file\n",
            " 1 file changed, 5 insertions(+)\n",
            " create mode 100644 train.csv.dvc\n",
            "[master 732440d] validation file\n",
            " 1 file changed, 5 insertions(+)\n",
            " create mode 100644 validation.csv.dvc\n"
          ]
        }
      ]
    },
    {
      "cell_type": "code",
      "source": [
        "!git log"
      ],
      "metadata": {
        "colab": {
          "base_uri": "https://localhost:8080/"
        },
        "id": "SX-Za2eFtHkX",
        "outputId": "7036f1df-4279-4b1e-9f88-231d05ffd07d"
      },
      "execution_count": 185,
      "outputs": [
        {
          "output_type": "stream",
          "name": "stdout",
          "text": [
            "commit 732440d9448a5dfcba5d1e146343bb3d2b1a0a28 (HEAD -> master)\n",
            "Author: Abhinav <sapra@cmi.ac.in>\n",
            "Date:   Tue Feb 20 18:06:05 2024 +0000\n",
            "\n",
            "    validation file\n",
            "\n",
            "commit 5fd3cd4435d5e32bbe6d4e4c62a4773c7f589f90\n",
            "Author: Abhinav <sapra@cmi.ac.in>\n",
            "Date:   Tue Feb 20 18:06:05 2024 +0000\n",
            "\n",
            "    train file\n",
            "\n",
            "commit 138de78d570732fe5f54bd26dd6169a9e3193bba\n",
            "Author: Abhinav <sapra@cmi.ac.in>\n",
            "Date:   Tue Feb 20 18:06:04 2024 +0000\n",
            "\n",
            "    test file\n"
          ]
        }
      ]
    },
    {
      "cell_type": "code",
      "source": [
        "\n",
        "X_train_1, X_test_1, y_train_1, y_test_1 = train_test_split(messages, labels, test_size=0.2, random_state=96)\n",
        "\n",
        "X_train_1, X_val_1, y_train_1, y_val_1 = train_test_split(X_train, y_train, test_size=0.2, random_state=96)"
      ],
      "metadata": {
        "id": "VzxuVAqwjZNK"
      },
      "execution_count": 186,
      "outputs": []
    },
    {
      "cell_type": "code",
      "source": [
        "train_df = pd.DataFrame()\n",
        "train_df[\"text\"] = X_train_1\n",
        "train_df[\"spam\"] = y_train_1\n",
        "print(\"TRAIN DATA\")\n",
        "print(train_df, \"\\n\\n\\n\")\n",
        "\n",
        "val_df = pd.DataFrame()\n",
        "val_df[\"text\"] = X_val_1\n",
        "val_df[\"spam\"] = y_val_1\n",
        "print(\"VALIDATION DATA\")\n",
        "print(val_df, \"\\n\\n\\n\")\n",
        "\n",
        "test_df = pd.DataFrame()\n",
        "test_df[\"text\"] = X_test_1\n",
        "test_df[\"spam\"] = y_test_1\n",
        "print(\"TEST DATA\")\n",
        "print(test_df)\n",
        "\n",
        "train_df.to_csv(f\"{path}/train.csv\", index=False)\n",
        "val_df.to_csv(f\"{path}/validation.csv\", index=False)\n",
        "test_df.to_csv(f\"{path}/test.csv\", index=False)"
      ],
      "metadata": {
        "id": "3FjC7P4ojuqT",
        "colab": {
          "base_uri": "https://localhost:8080/"
        },
        "outputId": "694e091b-592b-43ea-b31b-9672fd4bfe96"
      },
      "execution_count": 187,
      "outputs": [
        {
          "output_type": "stream",
          "name": "stdout",
          "text": [
            "TRAIN DATA\n",
            "                                                   text  spam\n",
            "2850  Subject: next eprm article  hi vince  the next...     0\n",
            "1112  Subject: delivery status notification ( failur...     1\n",
            "693   Subject: neugierig ?  - - - - 870879228701464 ...     1\n",
            "3751  Subject: class request : xl 97 range - 567 exc...     0\n",
            "1653  Subject: request submitted : access request fo...     0\n",
            "...                                                 ...   ...\n",
            "3066  Subject: re : lng may 19 decision  vince - tha...     0\n",
            "4742  Subject: thanks for your help ! !  vince ,  my...     0\n",
            "1303  Subject: clear benefits of creative design  lt...     1\n",
            "5355  Subject: re : statistica & lunch  rick ,  we a...     0\n",
            "3878  Subject: re : enron tiger kick off  donna ,  j...     0\n",
            "\n",
            "[2932 rows x 2 columns] \n",
            "\n",
            "\n",
            "\n",
            "VALIDATION DATA\n",
            "                                                   text  spam\n",
            "1458  Subject: uk rpi model  hi zimin !  please find...     0\n",
            "4     Subject: do not have money , get software cds ...     1\n",
            "4300  Subject: re :  darrell ,  thanks a lot .  a qu...     0\n",
            "3059  Subject: thank you for the opportunity  hello ...     0\n",
            "2041  Subject: maureen ' s expenses  it appears that...     0\n",
            "...                                                 ...   ...\n",
            "1015  Subject: failure notice  hi . this is the qmai...     1\n",
            "3199  Subject: vince and stinson ,  i got this resum...     0\n",
            "5464  Subject: new pc  hi lyn :  alex huang has requ...     0\n",
            "1691  Subject: phone numbers  computer support : 713...     0\n",
            "5717  Subject: fwd : update  return - path :  receiv...     0\n",
            "\n",
            "[733 rows x 2 columns] \n",
            "\n",
            "\n",
            "\n",
            "TEST DATA\n",
            "                                                   text  spam\n",
            "412   Subject: buyer beware - penis patches !  penis...     1\n",
            "833   Subject: make some extra money fast read how h...     1\n",
            "3404  Subject: wharton risk center advisory committe...     0\n",
            "4947  Subject: re : dinner speaker - may 23  dear mr...     0\n",
            "2447  Subject: reimbursement of individually billed ...     0\n",
            "...                                                 ...   ...\n",
            "2544  Subject: forecasting project  per our monday m...     0\n",
            "4676  Subject: telephone interview with the research...     0\n",
            "5497  Subject: hiring aram at a vp level  rick ,  i ...     0\n",
            "3796  Subject: magic 15 , 000 level on nikkei  - - -...     0\n",
            "1156  Subject: hi  ho aussie w to save on your medlc...     1\n",
            "\n",
            "[1146 rows x 2 columns]\n"
          ]
        }
      ]
    },
    {
      "cell_type": "code",
      "source": [
        "!dvc add test.csv\n",
        "!dvc add train.csv\n",
        "!dvc add validation.csv"
      ],
      "metadata": {
        "colab": {
          "base_uri": "https://localhost:8080/"
        },
        "id": "tGgwJwqimcS6",
        "outputId": "de758db2-3cd8-4dc3-f6e2-04b60697a618"
      },
      "execution_count": 188,
      "outputs": [
        {
          "output_type": "stream",
          "name": "stdout",
          "text": [
            "\u001b[?25l⠋ Checking graph\n",
            "Adding...:   0% 0/1 [00:00<?, ?file/s{'info': ''}]\n",
            "!\n",
            "          |0.00 [00:00,     ?file/s]\n",
            "                                    \n",
            "!\n",
            "  0% |          |0/? [00:00<?,    ?files/s]\n",
            "                                           \n",
            "Adding test.csv to cache:   0% 0/1 [00:00<?, ?file/s]\n",
            "Adding test.csv to cache:   0% 0/1 [00:00<?, ?file/s{'info': ''}]\n",
            "                                                                 \n",
            "  0% 0/1 [00:00<?, ?files/s]\n",
            "  0% 0/1 [00:00<?, ?files/s{'info': ''}]\n",
            "Adding...: 100% 1/1 [00:00<00:00,  2.65file/s{'info': ''}]\n",
            "\n",
            "To track the changes with git, run:\n",
            "\n",
            "\tgit add test.csv.dvc\n",
            "\n",
            "To enable auto staging, run:\n",
            "\n",
            "\tdvc config core.autostage true\n",
            "\u001b[?25l⠋ Checking graph\n",
            "Adding...:   0% 0/1 [00:00<?, ?file/s{'info': ''}]\n",
            "!\n",
            "          |0.00 [00:00,     ?file/s]\n",
            "                                    \n",
            "!\n",
            "  0% |          |0/? [00:00<?,    ?files/s]\n",
            "                                           \n",
            "Adding train.csv to cache:   0% 0/1 [00:00<?, ?file/s]\n",
            "Adding train.csv to cache:   0% 0/1 [00:00<?, ?file/s{'info': ''}]\n",
            "                                                                  \n",
            "  0% 0/1 [00:00<?, ?files/s]\n",
            "  0% 0/1 [00:00<?, ?files/s{'info': ''}]\n",
            "Adding...: 100% 1/1 [00:00<00:00,  2.55file/s{'info': ''}]\n",
            "\n",
            "To track the changes with git, run:\n",
            "\n",
            "\tgit add train.csv.dvc\n",
            "\n",
            "To enable auto staging, run:\n",
            "\n",
            "\tdvc config core.autostage true\n",
            "\u001b[?25l⠋ Checking graph\n",
            "Adding...:   0% 0/1 [00:00<?, ?file/s{'info': ''}]\n",
            "!\n",
            "          |0.00 [00:00,     ?file/s]\n",
            "                                    \n",
            "!\n",
            "  0% |          |0/? [00:00<?,    ?files/s]\n",
            "                                           \n",
            "Adding validation.csv to cache:   0% 0/1 [00:00<?, ?file/s]\n",
            "Adding validation.csv to cache:   0% 0/1 [00:00<?, ?file/s{'info': ''}]\n",
            "Adding validation.csv to cache: 100% 1/1 [00:00<00:00,  9.91file/s{'info': ''}]\n",
            "                                                                               \n",
            "  0% 0/1 [00:00<?, ?files/s]\n",
            "  0% 0/1 [00:00<?, ?files/s{'info': ''}]\n",
            "Adding...: 100% 1/1 [00:00<00:00,  3.04file/s{'info': ''}]\n",
            "\n",
            "To track the changes with git, run:\n",
            "\n",
            "\tgit add validation.csv.dvc\n",
            "\n",
            "To enable auto staging, run:\n",
            "\n",
            "\tdvc config core.autostage true\n"
          ]
        }
      ]
    },
    {
      "cell_type": "code",
      "source": [
        "!dvc push"
      ],
      "metadata": {
        "colab": {
          "base_uri": "https://localhost:8080/"
        },
        "id": "JxRWq4OfUN1e",
        "outputId": "338007d0-3cc6-49a7-c9fc-1e8775f50c76"
      },
      "execution_count": 189,
      "outputs": [
        {
          "output_type": "stream",
          "name": "stdout",
          "text": [
            "Collecting          |3.00 [00:00,  111entry/s]\n",
            "Pushing\n",
            "!\n",
            "  0% |          |0/? [00:00<?,    ?files/s]\n",
            "                                           \n",
            "!\n",
            "  0% |          |0/? [00:00<?,    ?files/s]\n",
            "                                           \n",
            "Pushing to local:   0% 0/3 [00:00<?, ?file/s]\n",
            "Pushing to local:   0% 0/3 [00:00<?, ?file/s{'info': ''}]\n",
            "Pushing to local:  67% 2/3 [00:00<00:00, 13.24file/s{'info': ''}]\n",
            "Pushing\n",
            "3 files pushed\n"
          ]
        }
      ]
    },
    {
      "cell_type": "code",
      "source": [
        "!git add test.csv.dvc .gitignore\n",
        "!git commit -m \"updated test file\"\n",
        "\n",
        "!git add train.csv.dvc .gitignore\n",
        "!git commit -m \"updated train file\"\n",
        "\n",
        "!git add validation.csv.dvc .gitignore\n",
        "!git commit -m \"updated validation file\""
      ],
      "metadata": {
        "colab": {
          "base_uri": "https://localhost:8080/"
        },
        "id": "sPgJkkHhpUR1",
        "outputId": "3dc167ac-a8e4-4307-84c7-f4956e04532e"
      },
      "execution_count": 190,
      "outputs": [
        {
          "output_type": "stream",
          "name": "stdout",
          "text": [
            "[master 60792ac] updated test file\n",
            " 1 file changed, 2 insertions(+), 2 deletions(-)\n",
            "[master 1b2aeeb] updated train file\n",
            " 1 file changed, 2 insertions(+), 2 deletions(-)\n",
            "[master 998c082] updated validation file\n",
            " 1 file changed, 2 insertions(+), 2 deletions(-)\n"
          ]
        }
      ]
    },
    {
      "cell_type": "code",
      "source": [
        "!git log"
      ],
      "metadata": {
        "colab": {
          "base_uri": "https://localhost:8080/"
        },
        "id": "rz_mwUCNwQRZ",
        "outputId": "c4b65590-cfbd-4cf7-9ab4-d0dc01a8141d"
      },
      "execution_count": 191,
      "outputs": [
        {
          "output_type": "stream",
          "name": "stdout",
          "text": [
            "commit 998c0826d5931d7966455be1151c2a3df2df0cde (HEAD -> master)\n",
            "Author: Abhinav <sapra@cmi.ac.in>\n",
            "Date:   Tue Feb 20 18:09:38 2024 +0000\n",
            "\n",
            "    updated validation file\n",
            "\n",
            "commit 1b2aeebf9c5957819f02d5119b345597ba31bb6f\n",
            "Author: Abhinav <sapra@cmi.ac.in>\n",
            "Date:   Tue Feb 20 18:09:38 2024 +0000\n",
            "\n",
            "    updated train file\n",
            "\n",
            "commit 60792ac93bc1241f97254c86008fd89f829af9be\n",
            "Author: Abhinav <sapra@cmi.ac.in>\n",
            "Date:   Tue Feb 20 18:09:37 2024 +0000\n",
            "\n",
            "    updated test file\n",
            "\n",
            "commit 732440d9448a5dfcba5d1e146343bb3d2b1a0a28\n",
            "Author: Abhinav <sapra@cmi.ac.in>\n",
            "Date:   Tue Feb 20 18:06:05 2024 +0000\n",
            "\n",
            "    validation file\n",
            "\n",
            "commit 5fd3cd4435d5e32bbe6d4e4c62a4773c7f589f90\n",
            "Author: Abhinav <sapra@cmi.ac.in>\n",
            "Date:   Tue Feb 20 18:06:05 2024 +0000\n",
            "\n",
            "    train file\n",
            "\n",
            "commit 138de78d570732fe5f54bd26dd6169a9e3193bba\n",
            "Author: Abhinav <sapra@cmi.ac.in>\n",
            "Date:   Tue Feb 20 18:06:04 2024 +0000\n",
            "\n",
            "    test file\n"
          ]
        }
      ]
    },
    {
      "cell_type": "markdown",
      "source": [
        "Let us work with the first version of the files"
      ],
      "metadata": {
        "id": "z-C5F2uDup_8"
      }
    },
    {
      "cell_type": "code",
      "source": [
        "!git checkout \"138de78d570732fe5f54bd26dd6169a9e3193bba\" test.csv.dvc\n",
        "\n",
        "!git checkout \"5fd3cd4435d5e32bbe6d4e4c62a4773c7f589f90\" train.csv.dvc\n",
        "\n",
        "!git checkout \"732440d9448a5dfcba5d1e146343bb3d2b1a0a28\" validation.csv.dvc\n",
        "!dvc checkout"
      ],
      "metadata": {
        "colab": {
          "base_uri": "https://localhost:8080/"
        },
        "id": "BmKH_wgSupe3",
        "outputId": "743168e7-dc54-41eb-f7ba-4d9f87fb0615"
      },
      "execution_count": 266,
      "outputs": [
        {
          "output_type": "stream",
          "name": "stdout",
          "text": [
            "Updated 1 path from c081c3b\n",
            "Updated 1 path from 144e6ab\n",
            "Updated 1 path from 89f0a43\n",
            "Building workspace index          |3.00 [00:00,  182entry/s]\n",
            "Comparing indexes          |4.00 [00:00, 1.64kentry/s]\n",
            "Applying changes          |0.00 [00:00,     ?file/s]\n"
          ]
        }
      ]
    },
    {
      "cell_type": "code",
      "source": [
        "test_v1 = pd.read_csv(\"test.csv\")\n",
        "train_v1 = pd.read_csv(\"train.csv\")\n",
        "validation_v1 = pd.read_csv(\"validation.csv\")"
      ],
      "metadata": {
        "id": "dmZdd8Qovy7n"
      },
      "execution_count": 267,
      "outputs": []
    },
    {
      "cell_type": "code",
      "source": [
        "distribution_test = test_v1['spam'].value_counts()\n",
        "distribution_train = train_v1['spam'].value_counts()\n",
        "distribution_valid = validation_v1['spam'].value_counts()\n",
        "print(\"Test Data\")\n",
        "print(distribution_test)\n",
        "print(\"\\n Train Data\")\n",
        "print(distribution_train)\n",
        "print(\"\\n Validation Data\")\n",
        "print(distribution_valid)"
      ],
      "metadata": {
        "colab": {
          "base_uri": "https://localhost:8080/"
        },
        "id": "3zSk7lzV2AlO",
        "outputId": "de10c562-3bf5-4579-aad2-be746a7b7690"
      },
      "execution_count": 268,
      "outputs": [
        {
          "output_type": "stream",
          "name": "stdout",
          "text": [
            "Test Data\n",
            "0    870\n",
            "1    276\n",
            "Name: spam, dtype: int64\n",
            "\n",
            " Train Data\n",
            "0    2780\n",
            "1     885\n",
            "Name: spam, dtype: int64\n",
            "\n",
            " Validation Data\n",
            "0    710\n",
            "1    207\n",
            "Name: spam, dtype: int64\n"
          ]
        }
      ]
    },
    {
      "cell_type": "markdown",
      "source": [
        "Now let us work with second version of the files"
      ],
      "metadata": {
        "id": "ycHgfHnl0VHD"
      }
    },
    {
      "cell_type": "code",
      "source": [
        "!git checkout \"998c0826d5931d7966455be1151c2a3df2df0cde\" validation.csv.dvc\n",
        "!git checkout \"1b2aeebf9c5957819f02d5119b345597ba31bb6f\" train.csv.dvc\n",
        "!git checkout \"60792ac93bc1241f97254c86008fd89f829af9be\" test.csv.dvc\n",
        "!dvc checkout"
      ],
      "metadata": {
        "colab": {
          "base_uri": "https://localhost:8080/"
        },
        "id": "5l7WVWIJ0jTP",
        "outputId": "5ec0ec0e-5a4c-49e2-9980-d8e82bffd0a4"
      },
      "execution_count": 269,
      "outputs": [
        {
          "output_type": "stream",
          "name": "stdout",
          "text": [
            "Updated 1 path from 9030e2e\n",
            "Updated 1 path from a6359db\n",
            "Updated 1 path from 6d0ff6a\n",
            "Building workspace index          |3.00 [00:00,  121entry/s]\n",
            "Comparing indexes          |4.00 [00:00,  964entry/s]\n",
            "Applying changes          |3.00 [00:00,  15.3file/s]\n",
            "M       test.csv\n",
            "M       validation.csv\n",
            "M       train.csv\n"
          ]
        }
      ]
    },
    {
      "cell_type": "code",
      "source": [
        "test_v2 = pd.read_csv(\"test.csv\")\n",
        "train_v2 = pd.read_csv(\"train.csv\")\n",
        "validation_v2 = pd.read_csv(\"validation.csv\")"
      ],
      "metadata": {
        "id": "nYcqAsp018_f"
      },
      "execution_count": 270,
      "outputs": []
    },
    {
      "cell_type": "code",
      "source": [
        "distribution_test_2 = test_v2['spam'].value_counts()\n",
        "distribution_train_2 = train_v2['spam'].value_counts()\n",
        "distribution_valid_2 = validation_v2['spam'].value_counts()\n",
        "print(\"Test Data\")\n",
        "print(distribution_test_2)\n",
        "print(\"Train Data\")\n",
        "print(distribution_train_2)\n",
        "print(\"Validation Data\")\n",
        "print(distribution_valid_2)"
      ],
      "metadata": {
        "colab": {
          "base_uri": "https://localhost:8080/"
        },
        "id": "O4zlwxCPw1s5",
        "outputId": "7175e6fe-b4ff-44e0-83a8-fd8d0a3cc2cb"
      },
      "execution_count": 271,
      "outputs": [
        {
          "output_type": "stream",
          "name": "stdout",
          "text": [
            "Test Data\n",
            "0    874\n",
            "1    272\n",
            "Name: spam, dtype: int64\n",
            "Train Data\n",
            "0    2215\n",
            "1     717\n",
            "Name: spam, dtype: int64\n",
            "Validation Data\n",
            "0    565\n",
            "1    168\n",
            "Name: spam, dtype: int64\n"
          ]
        }
      ]
    }
  ]
}